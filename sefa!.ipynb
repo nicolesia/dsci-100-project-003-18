{
 "cells": [
  {
   "cell_type": "code",
   "execution_count": null,
   "id": "f49134ac-f460-4fa6-9a89-f67dd2533cc7",
   "metadata": {},
   "outputs": [],
   "source": [
    "efefrtryuyktuydr vsefa #1"
   ]
  }
 ],
 "metadata": {
  "kernelspec": {
   "display_name": "R",
   "language": "R",
   "name": "ir"
  },
  "language_info": {
   "codemirror_mode": "r",
   "file_extension": ".r",
   "mimetype": "text/x-r-source",
   "name": "R",
   "pygments_lexer": "r",
   "version": "4.3.3"
  }
 },
 "nbformat": 4,
 "nbformat_minor": 5
}
